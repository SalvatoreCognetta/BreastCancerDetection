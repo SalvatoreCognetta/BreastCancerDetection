{
 "metadata": {
  "language_info": {
   "codemirror_mode": {
    "name": "ipython",
    "version": 3
   },
   "file_extension": ".py",
   "mimetype": "text/x-python",
   "name": "python",
   "nbconvert_exporter": "python",
   "pygments_lexer": "ipython3",
   "version": "3.8.5-final"
  },
  "orig_nbformat": 2,
  "kernelspec": {
   "name": "python3",
   "display_name": "Python 3"
  }
 },
 "nbformat": 4,
 "nbformat_minor": 2,
 "cells": [
  {
   "source": [
    "# Import"
   ],
   "cell_type": "markdown",
   "metadata": {}
  },
  {
   "cell_type": "code",
   "execution_count": 1,
   "metadata": {},
   "outputs": [],
   "source": [
    "import os"
   ]
  },
  {
   "source": [
    "# Create Directories"
   ],
   "cell_type": "markdown",
   "metadata": {}
  },
  {
   "cell_type": "code",
   "execution_count": 8,
   "metadata": {},
   "outputs": [
    {
     "output_type": "stream",
     "name": "stdout",
     "text": [
      "[Errno 17] File exists: './Augmented_Dataset/'\nDensity4Benign  directory created\nDensity1Benign  directory created\nDensity3Malignant  directory created\nDensity3Benign  directory created\nDensity4Malignant  directory created\nDensity2Benign  directory created\nDensity1Malignant  directory created\nDensity2Malignant  directory created\n"
     ]
    }
   ],
   "source": [
    "class_names = ['Density4Benign', 'Density1Benign', 'Density3Malignant', 'Density3Benign', 'Density4Malignant', 'Density2Benign', 'Density1Malignant', 'Density2Malignant']\n",
    "\n",
    "augmentation_type = ['crop', 'vertical_flip', 'horizontal_flip', 'brightness']\n",
    "\n",
    "try:\n",
    "    # Create Augmented Dataset directory\n",
    "    path = os.path.join('.', 'Augmented_Dataset/')\n",
    "    os.mkdir(path)\n",
    "    print(\"Augmented_Dataset directory created\")\n",
    "except FileExistsError as error:\n",
    "    print(error)\n",
    "\n",
    "for aug_type in augmentation_type:\n",
    "    try:\n",
    "        os.mkdir(os.path.join('.','Augmented_Dataset/'+aug_type))\n",
    "        print(aug_type,\" directory created\")\n",
    "\n",
    "        for class_name in class_names:\n",
    "            try:\n",
    "                os.mkdir(os.path.join('.','Augmented_Dataset/'+aug_type+'/'+class_name))\n",
    "                print(class_name,\" directory created\")\n",
    "            except FileExistsError as error:\n",
    "                print(error)\n",
    "                continue\n",
    "    except FileExistsError as error:\n",
    "        print(error)\n",
    "        continue\n",
    "\n",
    "\n"
   ]
  },
  {
   "cell_type": "code",
   "execution_count": 7,
   "metadata": {},
   "outputs": [
    {
     "output_type": "execute_result",
     "data": {
      "text/plain": [
       "['Density4Benign',\n",
       " 'Density1Benign',\n",
       " 'Density3Malignant',\n",
       " 'Density3Benign',\n",
       " 'Density4Malignant',\n",
       " 'Density2Benign',\n",
       " 'Density1Malignant',\n",
       " 'Density2Malignant']"
      ]
     },
     "metadata": {},
     "execution_count": 7
    }
   ],
   "source": [
    "class_names"
   ]
  }
 ]
}