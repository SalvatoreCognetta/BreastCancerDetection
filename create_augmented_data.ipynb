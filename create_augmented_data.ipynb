{
 "metadata": {
  "language_info": {
   "codemirror_mode": {
    "name": "ipython",
    "version": 3
   },
   "file_extension": ".py",
   "mimetype": "text/x-python",
   "name": "python",
   "nbconvert_exporter": "python",
   "pygments_lexer": "ipython3",
   "version": "3.8.5-final"
  },
  "orig_nbformat": 2,
  "kernelspec": {
   "name": "python3",
   "display_name": "Python 3"
  }
 },
 "nbformat": 4,
 "nbformat_minor": 2,
 "cells": [
  {
   "source": [
    "# Import"
   ],
   "cell_type": "markdown",
   "metadata": {}
  },
  {
   "cell_type": "code",
   "execution_count": 139,
   "metadata": {},
   "outputs": [],
   "source": [
    "import os\n",
    "import pathlib\n",
    "import tensorflow as tf\n",
    "import IPython.display as display\n",
    "from PIL import Image\n",
    "import IPython.display as display\n",
    "import matplotlib.pyplot as plt\n",
    "import numpy as np"
   ]
  },
  {
   "source": [
    "# Functions"
   ],
   "cell_type": "markdown",
   "metadata": {}
  },
  {
   "cell_type": "code",
   "execution_count": 62,
   "metadata": {},
   "outputs": [],
   "source": [
    "def visualize(original, augmented):\n",
    "  fig = plt.figure()\n",
    "  plt.subplot(1,2,1)\n",
    "  plt.title('Original image')\n",
    "  plt.imshow(original)\n",
    "\n",
    "  plt.subplot(1,2,2)\n",
    "  plt.title('Augmented image')\n",
    "  plt.imshow(augmented)"
   ]
  },
  {
   "cell_type": "code",
   "execution_count": 142,
   "metadata": {},
   "outputs": [],
   "source": [
    "# Gets the bounding box for only the breast, centered on the y axis\n",
    "def get_boundary(img):\n",
    "    idx = 0\n",
    "    right = 0\n",
    "    left = 224\n",
    "    for x in img.numpy():\n",
    "        for y in x:\n",
    "            idx += 1\n",
    "            if y[0] >= 50 and idx > right:\n",
    "                right = idx        \n",
    "        idx = 224\n",
    "        for y in reversed(x):\n",
    "            idx -= 1\n",
    "            if y[0] >= 50 and idx < left:\n",
    "                left = idx\n",
    "        idx = 0\n",
    "\n",
    "    # bounding box\n",
    "    y_min = (img.shape[0]-(right-left))//2\n",
    "    x_min = left\n",
    "    y_max = img.shape[0]-y_min\n",
    "    x_max = right-left\n",
    "    return x_min,y_min,x_max,y_max"
   ]
  },
  {
   "cell_type": "code",
   "execution_count": 143,
   "metadata": {},
   "outputs": [],
   "source": [
    "IMG_WIDTH, IMG_HEIGHT = 224, 224\n",
    "def generate_image(data_dir, aug_type, aug_func, aug_params):\n",
    "    sample_shown = False\n",
    "    for class_name in CLASS_NAMES:\n",
    "        images_path = list(data_dir.glob(class_name+'/*.png'))\n",
    "        \n",
    "        for image in images_path:\n",
    "            try:\n",
    "                img_name = str(image).split('/')[-1]\n",
    "                img = tf.io.read_file(str(image))\n",
    "                # Copy image to augmented directory\n",
    "                fname = tf.constant('Augmented_Dataset/'+aug_type+'/'+class_name+'/'+img_name)\n",
    "                fwrite = tf.io.write_file(fname, img)\n",
    "\n",
    "                # Flip image and save\n",
    "                img = tf.image.decode_png(img, channels=3)\n",
    "                if aug_type == 'crop':\n",
    "                    x_min,y_min,x_max,y_max = get_boundary(img)\n",
    "                    im = Image.open(str(image))\n",
    "                    im = im.crop((x_min,y_min,x_max,y_max))\n",
    "                    im = im.resize((224,224))\n",
    "                    im.save('Augmented_Dataset/'+aug_type+'/'+class_name+'/'+aug_type+'_'+img_name, \"PNG\")\n",
    "                    \n",
    "                    # Show sample\n",
    "                    if sample_shown == False:\n",
    "                        sample_shown = True\n",
    "                        display.display(im)\n",
    "                else:\n",
    "                    aug_img = aug_func(img, *aug_params)\n",
    "                    enc = tf.image.encode_png(aug_img)\n",
    "                    fname = tf.constant('Augmented_Dataset/'+aug_type+'/'+class_name+'/'+aug_type+'_'+img_name)\n",
    "                    fwrite = tf.io.write_file(fname, enc)\n",
    "\n",
    "                    # Show sample\n",
    "                    if sample_shown == False:\n",
    "                        visualize(img, aug_img)\n",
    "                        sample_shown = True\n",
    "\n",
    "            except Exception as error:\n",
    "                print(error)\n",
    "                continue"
   ]
  },
  {
   "source": [
    "# Create Directories"
   ],
   "cell_type": "markdown",
   "metadata": {}
  },
  {
   "cell_type": "code",
   "execution_count": 65,
   "metadata": {},
   "outputs": [],
   "source": [
    "CLASS_NAMES = ['Density4Benign', 'Density1Benign', 'Density3Malignant', 'Density3Benign', 'Density4Malignant', 'Density2Benign', 'Density1Malignant', 'Density2Malignant']\n",
    "\n",
    "augmentation_type = ['crop', 'vertical_flip', 'horizontal_flip', 'brightness']"
   ]
  },
  {
   "cell_type": "code",
   "execution_count": 66,
   "metadata": {},
   "outputs": [],
   "source": [
    "def create_class_dir(aug_type):\n",
    "    for class_name in CLASS_NAMES:\n",
    "        try:\n",
    "            os.mkdir(os.path.join('.','Augmented_Dataset/'+aug_type+'/'+class_name))\n",
    "            print(class_name,\" directory created\")\n",
    "        except FileExistsError as error:\n",
    "            print(error)\n",
    "            continue"
   ]
  },
  {
   "cell_type": "code",
   "execution_count": 141,
   "metadata": {},
   "outputs": [
    {
     "output_type": "stream",
     "name": "stdout",
     "text": [
      "[Errno 17] File exists: './Augmented_Dataset/'\ncrop  directory created\nDensity4Benign  directory created\nDensity1Benign  directory created\nDensity3Malignant  directory created\nDensity3Benign  directory created\nDensity4Malignant  directory created\nDensity2Benign  directory created\nDensity1Malignant  directory created\nDensity2Malignant  directory created\n[Errno 17] File exists: './Augmented_Dataset/vertical_flip'\n[Errno 17] File exists: './Augmented_Dataset/vertical_flip/Density4Benign'\n[Errno 17] File exists: './Augmented_Dataset/vertical_flip/Density1Benign'\n[Errno 17] File exists: './Augmented_Dataset/vertical_flip/Density3Malignant'\n[Errno 17] File exists: './Augmented_Dataset/vertical_flip/Density3Benign'\n[Errno 17] File exists: './Augmented_Dataset/vertical_flip/Density4Malignant'\n[Errno 17] File exists: './Augmented_Dataset/vertical_flip/Density2Benign'\n[Errno 17] File exists: './Augmented_Dataset/vertical_flip/Density1Malignant'\n[Errno 17] File exists: './Augmented_Dataset/vertical_flip/Density2Malignant'\n[Errno 17] File exists: './Augmented_Dataset/horizontal_flip'\n[Errno 17] File exists: './Augmented_Dataset/horizontal_flip/Density4Benign'\n[Errno 17] File exists: './Augmented_Dataset/horizontal_flip/Density1Benign'\n[Errno 17] File exists: './Augmented_Dataset/horizontal_flip/Density3Malignant'\n[Errno 17] File exists: './Augmented_Dataset/horizontal_flip/Density3Benign'\n[Errno 17] File exists: './Augmented_Dataset/horizontal_flip/Density4Malignant'\n[Errno 17] File exists: './Augmented_Dataset/horizontal_flip/Density2Benign'\n[Errno 17] File exists: './Augmented_Dataset/horizontal_flip/Density1Malignant'\n[Errno 17] File exists: './Augmented_Dataset/horizontal_flip/Density2Malignant'\n[Errno 17] File exists: './Augmented_Dataset/brightness'\n[Errno 17] File exists: './Augmented_Dataset/brightness/Density4Benign'\n[Errno 17] File exists: './Augmented_Dataset/brightness/Density1Benign'\n[Errno 17] File exists: './Augmented_Dataset/brightness/Density3Malignant'\n[Errno 17] File exists: './Augmented_Dataset/brightness/Density3Benign'\n[Errno 17] File exists: './Augmented_Dataset/brightness/Density4Malignant'\n[Errno 17] File exists: './Augmented_Dataset/brightness/Density2Benign'\n[Errno 17] File exists: './Augmented_Dataset/brightness/Density1Malignant'\n[Errno 17] File exists: './Augmented_Dataset/brightness/Density2Malignant'\n"
     ]
    }
   ],
   "source": [
    "try:\n",
    "    # Create Augmented Dataset directory\n",
    "    path = os.path.join('.', 'Augmented_Dataset/')\n",
    "    os.mkdir(path)\n",
    "    print(\"Augmented_Dataset directory created\")\n",
    "except FileExistsError as error:\n",
    "    print(error)\n",
    "\n",
    "# Create subdirectories\n",
    "for aug_type in augmentation_type:\n",
    "    try:\n",
    "        os.mkdir(os.path.join('.','Augmented_Dataset/'+aug_type))\n",
    "        print(aug_type,\" directory created\")\n",
    "        create_class_dir(aug_type)        \n",
    "    except FileExistsError as error:\n",
    "        print(error)\n",
    "        create_class_dir(aug_type)\n",
    "        continue"
   ]
  },
  {
   "cell_type": "code",
   "execution_count": 8,
   "metadata": {},
   "outputs": [],
   "source": [
    "data_dir = './Dataset'\n",
    "data_dir = pathlib.Path(data_dir)"
   ]
  },
  {
   "source": [
    "# Generate and save vertical flip images"
   ],
   "cell_type": "markdown",
   "metadata": {}
  },
  {
   "cell_type": "code",
   "execution_count": 9,
   "metadata": {},
   "outputs": [
    {
     "output_type": "stream",
     "name": "stdout",
     "text": [
      "vertical_flip\n"
     ]
    }
   ],
   "source": [
    "generate_image(data_dir, 'vertical_flip', tf.image.flip_up_down, [])"
   ]
  },
  {
   "source": [
    "# Generate and save horizontal flip images"
   ],
   "cell_type": "markdown",
   "metadata": {}
  },
  {
   "cell_type": "code",
   "execution_count": 10,
   "metadata": {},
   "outputs": [
    {
     "output_type": "stream",
     "name": "stdout",
     "text": [
      "horizontal_flip\n"
     ]
    }
   ],
   "source": [
    "generate_image(data_dir, 'horizontal_flip', tf.image.flip_left_right, [])"
   ]
  },
  {
   "source": [
    "# Brightness"
   ],
   "cell_type": "markdown",
   "metadata": {}
  },
  {
   "cell_type": "code",
   "execution_count": 11,
   "metadata": {},
   "outputs": [
    {
     "output_type": "stream",
     "name": "stdout",
     "text": [
      "brightness\n"
     ]
    }
   ],
   "source": [
    "generate_image(data_dir, 'brightness', tf.image.adjust_brightness, [+0.3])"
   ]
  },
  {
   "source": [
    "# Breast centered crop"
   ],
   "cell_type": "markdown",
   "metadata": {}
  },
  {
   "cell_type": "code",
   "execution_count": 144,
   "metadata": {
    "tags": []
   },
   "outputs": [
    {
     "output_type": "display_data",
     "data": {
      "text/plain": "<PIL.Image.Image image mode=L size=224x224 at 0x7FED54605EB0>",
      "image/png": "[encoded data removed]"
     },
     "metadata": {}
    }
   ],
   "source": [
    "generate_image(data_dir, 'crop', tf.image.crop_to_bounding_box, [])"
   ]
  },
  {
   "cell_type": "code",
   "execution_count": null,
   "metadata": {},
   "outputs": [],
   "source": []
  }
 ]
}